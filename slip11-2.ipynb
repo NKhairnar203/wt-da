{
 "cells": [
  {
   "cell_type": "code",
   "execution_count": null,
   "metadata": {},
   "outputs": [],
   "source": [
    "#Q. 2)Create the following dataset in python & Convert the categorical values into numeric format.Apply the apriori algorithm on the above dataset to generate the frequent itemsets and associationrules. Repeat the process with different min_sup values. [Marks 15] TID Items 1 butter, bread, milk 2 butter, flour, milk, sugar 3 butter, eggs, milk, salt 4 eggs 5 butter, flour, milk, sal\n",
    "\n",
    "import pandas as pd \n",
    "from mlxtend.frequent_patterns import apriori , association_rules\n",
    "from mlxtend.preprocessing import TransactionEncoder\n",
    "\n",
    "transation = [['butter','bread','milk'],\n",
    "              ['butter','flour','milk','sugar'],\n",
    "              ['butter','eggs' ,'milk','salt'],\n",
    "              ['eggs'],\n",
    "              ['butter','flour','milk','salt']]\n",
    "\n",
    "te = TransactionEncoder()\n",
    "te_array = te.fit(transation).transform(transation)\n",
    "df = pd.DataFrame(te_array, columns=te.columns_ )\n",
    "\n",
    "freq_pattern = apriori(df , min_support=0.8 , use_colnames=True)\n",
    "\n",
    "print(freq_pattern)\n",
    "\n",
    "rules = association_rules(freq_pattern , metric='support' , min_threshold=0.05)\n",
    "print(rules)"
   ]
  }
 ],
 "metadata": {
  "language_info": {
   "name": "python"
  }
 },
 "nbformat": 4,
 "nbformat_minor": 2
}
