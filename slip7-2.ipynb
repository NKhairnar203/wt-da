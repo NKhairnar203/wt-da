{
 "cells": [
  {
   "cell_type": "code",
   "execution_count": null,
   "metadata": {},
   "outputs": [],
   "source": [
    "#Q. 2)Download the Market basket dataset. Write a python program to read the dataset and display its information. Preprocess the data (drop null values etc.) Convert the categorical values into numeric format. Apply the apriori algorithm on the above dataset to generate the frequent itemsets and association rules. [Marks 15]\n",
    "\n",
    "import pandas as pd\n",
    "from mlxtend.frequent_patterns import apriori,association_rules\n",
    "from mlxtend.preprocessing import TransactionEncoder\n",
    "\n",
    "data  = pd.read_csv(\"store_data.csv\")\n",
    "data.dropna()\n",
    "\n",
    "\n",
    "#2\n",
    "te = TransactionEncoder()\n",
    "te_data = te.fit(data).transform(data)\n",
    "\n",
    "new_df = pd.DataFrame(te_data, columns=te.columns_ )\n",
    "\n",
    "new_df\n",
    "freq_patterns = apriori(new_df ,min_support=0.01 ,use_colnames=True)\n",
    "freq_patterns\n",
    "\n",
    "rules = association_rules(freq_patterns,metric =\"support\", min_threshold=0.05)\n",
    "print(rules)"
   ]
  }
 ],
 "metadata": {
  "language_info": {
   "name": "python"
  }
 },
 "nbformat": 4,
 "nbformat_minor": 2
}
