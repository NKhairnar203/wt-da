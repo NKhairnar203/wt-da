{
 "cells": [
  {
   "cell_type": "code",
   "execution_count": null,
   "metadata": {},
   "outputs": [],
   "source": [
    "#Q. 2)Create the following dataset in python & Convert the categorical values into numeric format.Apply the apriori algorithm on the above dataset to generate the frequent itemsets and association rules. Repeat the process with different min_sup values.\n",
    "\n",
    "import pandas as pd \n",
    "from mlxtend.frequent_patterns import apriori,association_rules\n",
    "from mlxtend.preprocessing import TransactionEncoder\n",
    "\n",
    "transactions = [['Bread','Milk'],\n",
    "                ['Bread','Diaper','Beer','Eggs'],\n",
    "                ['Milk','Diaper','Beer','Coke'],\n",
    "                ['Bread', 'Milk','Diaper','Beer'],\n",
    "                ['Bread' ,'Milk','Diaper','Coke']]\n",
    "\n",
    "te = TransactionEncoder()\n",
    "te_array = te.fit(transactions).transform(transactions)\n",
    "\n",
    "df = pd.DataFrame(te_array , columns = te.columns_)\n",
    "\n",
    "freq_items = apriori(df,min_support = 0.5\n",
    "                      ,use_colnames=True)\n",
    "print(freq_items)\n",
    "\n",
    "rules = association_rules(freq_items,metric='support', min_threshold=0.05)\n",
    "rules = rules.sort_values(['support','confidence'] , ascending=[False,False])\n",
    "\n",
    "print(rules)\n",
    "\n",
    "\n"
   ]
  }
 ],
 "metadata": {
  "language_info": {
   "name": "python"
  }
 },
 "nbformat": 4,
 "nbformat_minor": 2
}
