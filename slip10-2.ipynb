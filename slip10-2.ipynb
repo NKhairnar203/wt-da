{
 "cells": [
  {
   "cell_type": "code",
   "execution_count": null,
   "metadata": {},
   "outputs": [],
   "source": [
    "#Q. 2)Create the following dataset in python & Convert the categorical values into numeric format.Apply the apriori algorithm on the above dataset to generate the frequent itemsets and association rules. Repeat the process with different min_sup values. [Marks 15] TID Items 1 'eggs', 'milk','bread' 2 'eggs', 'apple' 3 'milk', 'bread' 4 'apple', 'milk' 5 'milk', 'apple', 'bread'\n",
    "\n",
    "import pandas as pd\n",
    "from mlxtend.frequent_patterns import apriori, association_rules\n",
    "from mlxtend.preprocessing import TransactionEncoder\n",
    "\n",
    "transactions = [['eggs','milk','bread'],\n",
    "                ['eggs','apple'],\n",
    "                ['milk','bread'],\n",
    "                ['apple','milk'],\n",
    "                ['milk','apple','bread']]\n",
    "\n",
    "te = TransactionEncoder()\n",
    "te_array = te.fit(transactions).transform(transactions)\n",
    "\n",
    "df = pd.DataFrame(te_array , columns = te.columns_)\n",
    "\n",
    "freq_pattern = apriori(df , min_support=0.6 , use_colnames=True)\n",
    "print(freq_pattern)\n",
    "\n",
    "rules = association_rules(freq_pattern , metric='support', min_threshold=0.05) \n",
    "print(rules)"
   ]
  }
 ],
 "metadata": {
  "language_info": {
   "name": "python"
  }
 },
 "nbformat": 4,
 "nbformat_minor": 2
}
