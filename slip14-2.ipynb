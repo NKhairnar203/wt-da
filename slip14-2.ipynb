{
 "cells": [
  {
   "cell_type": "code",
   "execution_count": null,
   "metadata": {},
   "outputs": [],
   "source": [
    "#Q. 2)Create the following dataset in python & Convert the categorical values into numeric format.Apply the apriori algorithm on the above dataset to generate the frequent itemsets and association rules. Repeat the process with different min_sup values. [Marks 15] TID Items 1 {Apple , Mango , Banana} 2 {Mango , Banana , Cabbage , Carrots} 3 {Mango , Banana ,Carrots} 4 {Mango , Carrots}\n",
    "\n",
    "import pandas as pd\n",
    "from mlxtend.frequent_patterns import apriori , association_rules\n",
    "from mlxtend.preprocessing import TransactionEncoder\n",
    "\n",
    "tansactions = [['Apple','Mango','Banana'],\n",
    "               ['Mango','Banana','Cabbage','Carrots'],\n",
    "               ['Mango','Banana' ,'Carrots'],\n",
    "               ['Mango' ,'Carrots']]\n",
    "\n",
    "te = TransactionEncoder()\n",
    "te_array = te.fit(tansactions).transform(tansactions)\n",
    "\n",
    "df = pd.DataFrame(te_array , columns=te.columns_)\n",
    "\n",
    "freq_items = apriori(df , min_support=0.5 , use_colnames=True)\n",
    "print(freq_items)\n",
    "\n",
    "rules = association_rules(freq_items , metric='support' , min_threshold=0.05)\n",
    "print(rules)"
   ]
  }
 ],
 "metadata": {
  "language_info": {
   "name": "python"
  }
 },
 "nbformat": 4,
 "nbformat_minor": 2
}
