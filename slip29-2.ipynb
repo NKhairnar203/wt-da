{
 "cells": [
  {
   "cell_type": "code",
   "execution_count": null,
   "metadata": {},
   "outputs": [],
   "source": [
    "#Q. 2 ) Build a logistic regression model for Student Score Dataset.\n",
    "\n",
    "import pandas as pd\n",
    "import numpy as np\n",
    "from sklearn.model_selection import train_test_split\n",
    "from sklearn.linear_model import LogisticRegression\n",
    "from sklearn import metrics\n",
    "data = pd.read_csv(\"student_score.csv\")\n",
    "data\n",
    "\n",
    "\n",
    "#2\n",
    "\n",
    "x = data.iloc[:,1:4].values\n",
    "y = data.iloc[:,4].values\n",
    "\n",
    "x_train,x_test,y_train,y_test = train_test_split(x,y,test_size=0.25)\n",
    "\n",
    "model = LogisticRegression()\n",
    "model.fit(x_train,y_train)\n",
    "\n",
    "y_pred = model.predict(x_test)\n",
    "accuracy = metrics.accuracy_score(y_test,y_pred)\n",
    "print(y_pred)\n",
    "print(\"Accuracy :{} %\".format(accuracy*100))\n",
    "\n",
    "\n",
    "def is_Admitted(test_data):\n",
    "    return model.predict(test_data)\n",
    "\n",
    "print(is_Admitted([[650,4.5,15]]))\n",
    "\n"
   ]
  },
  {
   "cell_type": "code",
   "execution_count": null,
   "metadata": {},
   "outputs": [],
   "source": []
  }
 ],
 "metadata": {
  "language_info": {
   "name": "python"
  }
 },
 "nbformat": 4,
 "nbformat_minor": 2
}
