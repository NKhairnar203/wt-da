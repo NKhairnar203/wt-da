{
 "cells": [
  {
   "cell_type": "code",
   "execution_count": null,
   "metadata": {},
   "outputs": [],
   "source": [
    "#Q. 2)Download the groceries dataset. Write a python program to read the dataset and display its information. Preprocess the data (drop null values etc.) Convert the categorical values into numeric format. Apply the apriori algorithm on the above dataset to generate the frequent itemsets and association rules.\n",
    "\n",
    "import pandas as pd\n",
    "from mlxtend.frequent_patterns import apriori , association_rules\n",
    "from mlxtend.preprocessing import TransactionEncoder\n",
    "\n",
    "df = pd.read_csv(\"gr-data.csv\")\n",
    "df\n",
    "\n"
   ]
  }
 ],
 "metadata": {
  "language_info": {
   "name": "python"
  }
 },
 "nbformat": 4,
 "nbformat_minor": 2
}
