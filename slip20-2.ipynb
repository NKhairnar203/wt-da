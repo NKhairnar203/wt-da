{
 "cells": [
  {
   "cell_type": "code",
   "execution_count": null,
   "metadata": {},
   "outputs": [],
   "source": [
    "#Q. 2 )Consider text paragraph. \"\"\"Hello all, Welcome to Python Programming Academy. Python Programming Academy is a nice platform to learn new programming skills. It is difficult to get enrolled in this Academy.\"\"\" Preprocess the text to remove any special characters and digits. Generate the summary using extractive summarization process.\n",
    "\n",
    "from nltk.corpus import stopwords\n",
    "from nltk.tokenize import word_tokenize\n",
    "\n",
    "text = \"\"\"Hello all, Welcome to Python Programming Academy. Python \n",
    "Programming Academy is a nice platform to learn new programming skills. It is difficult to get enrolled \n",
    "in this Academy.\"\"\"\n",
    "\n",
    "stopWords = set(stopwords.words(\"english\"))\n",
    "\n",
    "words = word_tokenize(text)\n",
    "filtered_words =[]\n",
    "for word in words:\n",
    "    if word not in stopWords:\n",
    "        filtered_words.append(word)\n",
    "        \n",
    "filtered_words\n",
    "\n",
    "\n"
   ]
  }
 ],
 "metadata": {
  "language_info": {
   "name": "python"
  }
 },
 "nbformat": 4,
 "nbformat_minor": 2
}
