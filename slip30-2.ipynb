{
 "cells": [
  {
   "cell_type": "code",
   "execution_count": null,
   "metadata": {},
   "outputs": [],
   "source": [
    "#Q. 2 ) Create the dataset . transactions = [['eggs', 'milk','bread'], ['eggs', 'apple'], ['milk', 'bread'], ['apple', 'milk'], ['milk', 'apple', 'bread']] . Convert the categorical values into numeric format.Apply the apriori algorithm on the above dataset to generate the frequent itemsets and association rules.\n",
    "\n",
    "import pandas as pd\n",
    "from mlxtend.frequent_patterns import apriori,association_rules\n",
    "from mlxtend.preprocessing import TransactionEncoder\n",
    "\n",
    "transactions = [['eggs', 'milk','bread'],\n",
    "                ['eggs', 'apple'], \n",
    "                ['milk', 'bread'],\n",
    "                ['apple', 'milk'],\n",
    "                ['milk', 'apple', 'bread']\n",
    "                ]\n",
    "\n",
    "# transform the data\n",
    "te = TransactionEncoder()\n",
    "te_data = te.fit(transactions).transform(transactions)\n",
    "\n",
    "df = pd.DataFrame(te_data , columns=te.columns_)\n",
    "\n",
    "freq_items = apriori(df,min_support=0.5 ,use_colnames=True)\n",
    "print(freq_items)\n",
    "\n",
    "rules = association_rules(freq_items , metric=\"support\" , min_threshold=0.05)\n",
    "rules = rules.sort_values(['support' , 'confidence'] , ascending=[False,False])\n",
    "print(rules)"
   ]
  }
 ],
 "metadata": {
  "language_info": {
   "name": "python"
  }
 },
 "nbformat": 4,
 "nbformat_minor": 2
}
