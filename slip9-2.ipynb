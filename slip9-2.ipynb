{
 "cells": [
  {
   "cell_type": "code",
   "execution_count": null,
   "metadata": {},
   "outputs": [],
   "source": [
    "#Q. 2)Create your own transactions dataset and apply the above process on your dataset. \n",
    "\n",
    "import pandas as pd \n",
    "from mlxtend.frequent_patterns import apriori,association_rules\n",
    "from mlxtend.preprocessing import TransactionEncoder\n",
    "\n",
    "transactions = [['Apple','Mango','PineApple'],\n",
    "                ['Apple','Orange'],\n",
    "                ['Mango' , 'Apple' , 'Orange'],\n",
    "                ['PineApple','Orange']]\n",
    "\n",
    "te = TransactionEncoder()\n",
    "te_array = te.fit(transactions).transform(transactions)\n",
    "\n",
    "df = pd.DataFrame(te_array , columns=te.columns_)\n",
    "\n",
    "freq_pattern = apriori(df , min_support=0.5 , use_colnames=True)\n",
    "print(freq_pattern)\n",
    "\n",
    "rules = association_rules(freq_pattern , metric='support' , min_threshold=0.05)\n",
    "print(rules)"
   ]
  }
 ],
 "metadata": {
  "language_info": {
   "name": "python"
  }
 },
 "nbformat": 4,
 "nbformat_minor": 2
}
