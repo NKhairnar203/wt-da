{
 "cells": [
  {
   "cell_type": "code",
   "execution_count": null,
   "metadata": {},
   "outputs": [],
   "source": [
    "\n",
    "#Q. 2)Create ‘User’ Data set having 5 columns namely: User ID, Gender, Age, Estimated Salary and Purchased. Build a logistic regression model that can predict whether on the given parameter a person will buy a car or not.\n",
    "\n",
    "import pandas as pd\n",
    "import numpy as np\n",
    "import numpy as y_test\n",
    "import numpy as y_pred\n",
    "from sklearn.model_selection import train_test_split\n",
    "from sklearn.linear_model import LogisticRegression\n",
    "import seaborn  as sn \n",
    "from sklearn import metrics\n",
    "# Creating the dataset\n",
    "data = {\n",
    "    'User ID': [1, 2, 3, 4, 5],\n",
    "    'Gender': ['Male', 'Female', 'Male', 'Female', 'Male'],\n",
    "    'Age': [25, 30, 35, 40, 45],\n",
    "    'Estimated Salary': [30000, 40000, 50000, 60000, 70000],\n",
    "    'Purchased': [0, 1, 1, 1, 0]  # 0 for not purchased, 1 for purchased\n",
    "}\n",
    "\n",
    "df = pd.DataFrame(data)\n",
    "x = np.array(df[['Estimated Salary']])  # estimated salary is independent variable\n",
    "y = np.array(df['Purchased']) # purchased is dependent variable\n",
    "\n",
    "# splitting the data into training and testing dataset\n",
    "x_train, x_test,y_train,y_test = train_test_split(x,y,test_size=0.25)\n",
    "\n",
    "model = LogisticRegression()\n",
    "model.fit(x_train,y_train)\n",
    "y_pred = model.predict(x_test)\n",
    "print(\"Accuracy \" , metrics.accuracy_score(y_test,y_pred)*100,\"%\")\n",
    "def getText(num):\n",
    "    if num == 0:\n",
    "        return \"\\tNo\"\n",
    "    return \"\\tYes\"\n",
    "\n",
    "print(\"Salary\\tActual\\tPredicted\")\n",
    "for [salary ,actual, predicted] in zip(x_test,y_test,y_pred):\n",
    "    print(salary[0] ,getText(actual),getText(predicted))"
   ]
  }
 ],
 "metadata": {
  "language_info": {
   "name": "python"
  }
 },
 "nbformat": 4,
 "nbformat_minor": 2
}
