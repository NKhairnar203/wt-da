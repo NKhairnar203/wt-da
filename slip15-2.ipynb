{
 "cells": [
  {
   "cell_type": "code",
   "execution_count": null,
   "metadata": {},
   "outputs": [],
   "source": [
    "#Q. 2)Create the following dataset in python & Convert the categorical values into numeric format.Apply the apriori algorithm on the above dataset to generate the frequent itemsets and association rules. Repeat the process with different min_sup values. [Marks 15]\n",
    "\n",
    "import pandas as pd\n",
    "from mlxtend.preprocessing import TransactionEncoder\n",
    "from mlxtend.frequent_patterns import apriori , association_rules\n",
    "\n",
    "transcations = [['TATA','Nexon','2017'],\n",
    "                ['MG','Astor','2021'],\n",
    "                ['Kia' ,'Seltos' ,'2019'],\n",
    "                ['Hyundai','Creta','2015']]\n",
    "\n",
    "te = TransactionEncoder()\n",
    "te_data = te.fit(transcations).transform(transcations)\n",
    "\n",
    "df = pd.DataFrame(te_data , columns=te.columns_)\n",
    "\n",
    "frequent_items = apriori(df, min_support=0.2,use_colnames=True)\n",
    "# print(frequent_items)\n",
    "\n",
    "rules = association_rules(frequent_items,metric='support',min_threshold=0.05)\n"
   ]
  }
 ],
 "metadata": {
  "language_info": {
   "name": "python"
  }
 },
 "nbformat": 4,
 "nbformat_minor": 2
}
